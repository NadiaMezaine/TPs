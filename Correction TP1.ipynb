{
 "cells": [
  {
   "cell_type": "code",
   "execution_count": 42,
   "id": "41b55fc4",
   "metadata": {},
   "outputs": [],
   "source": [
    "# Importer les librairies\n",
    "\n",
    "import pandas as pd\n",
    "\n",
    "import matplotlib.pyplot as plt\n",
    "\n",
    "from sklearn.model_selection import train_test_split\n",
    "\n",
    "\n",
    "from sklearn.linear_model import LinearRegression"
   ]
  },
  {
   "cell_type": "code",
   "execution_count": 22,
   "id": "c0a7fd88",
   "metadata": {},
   "outputs": [
    {
     "data": {
      "text/html": [
       "<div>\n",
       "<style scoped>\n",
       "    .dataframe tbody tr th:only-of-type {\n",
       "        vertical-align: middle;\n",
       "    }\n",
       "\n",
       "    .dataframe tbody tr th {\n",
       "        vertical-align: top;\n",
       "    }\n",
       "\n",
       "    .dataframe thead th {\n",
       "        text-align: right;\n",
       "    }\n",
       "</style>\n",
       "<table border=\"1\" class=\"dataframe\">\n",
       "  <thead>\n",
       "    <tr style=\"text-align: right;\">\n",
       "      <th></th>\n",
       "      <th>surface</th>\n",
       "      <th>loyer</th>\n",
       "    </tr>\n",
       "  </thead>\n",
       "  <tbody>\n",
       "    <tr>\n",
       "      <th>0</th>\n",
       "      <td>37</td>\n",
       "      <td>1330</td>\n",
       "    </tr>\n",
       "    <tr>\n",
       "      <th>1</th>\n",
       "      <td>32</td>\n",
       "      <td>1400</td>\n",
       "    </tr>\n",
       "    <tr>\n",
       "      <th>2</th>\n",
       "      <td>26</td>\n",
       "      <td>904</td>\n",
       "    </tr>\n",
       "    <tr>\n",
       "      <th>3</th>\n",
       "      <td>30</td>\n",
       "      <td>955</td>\n",
       "    </tr>\n",
       "    <tr>\n",
       "      <th>4</th>\n",
       "      <td>70</td>\n",
       "      <td>2545</td>\n",
       "    </tr>\n",
       "    <tr>\n",
       "      <th>...</th>\n",
       "      <td>...</td>\n",
       "      <td>...</td>\n",
       "    </tr>\n",
       "    <tr>\n",
       "      <th>540</th>\n",
       "      <td>48</td>\n",
       "      <td>1490</td>\n",
       "    </tr>\n",
       "    <tr>\n",
       "      <th>541</th>\n",
       "      <td>58</td>\n",
       "      <td>2020</td>\n",
       "    </tr>\n",
       "    <tr>\n",
       "      <th>542</th>\n",
       "      <td>70</td>\n",
       "      <td>2050</td>\n",
       "    </tr>\n",
       "    <tr>\n",
       "      <th>543</th>\n",
       "      <td>42</td>\n",
       "      <td>1220</td>\n",
       "    </tr>\n",
       "    <tr>\n",
       "      <th>544</th>\n",
       "      <td>44</td>\n",
       "      <td>1610</td>\n",
       "    </tr>\n",
       "  </tbody>\n",
       "</table>\n",
       "<p>545 rows × 2 columns</p>\n",
       "</div>"
      ],
      "text/plain": [
       "     surface  loyer\n",
       "0         37   1330\n",
       "1         32   1400\n",
       "2         26    904\n",
       "3         30    955\n",
       "4         70   2545\n",
       "..       ...    ...\n",
       "540       48   1490\n",
       "541       58   2020\n",
       "542       70   2050\n",
       "543       42   1220\n",
       "544       44   1610\n",
       "\n",
       "[545 rows x 2 columns]"
      ]
     },
     "execution_count": 22,
     "metadata": {},
     "output_type": "execute_result"
    }
   ],
   "source": [
    "# import Data Set\n",
    "\n",
    "Data = pd.read_csv('D:\\LoyersMaisons.csv' , delimiter = ';')\n",
    "Data"
   ]
  },
  {
   "cell_type": "code",
   "execution_count": 23,
   "id": "a560f2f9",
   "metadata": {},
   "outputs": [
    {
     "data": {
      "text/plain": [
       "<matplotlib.collections.PathCollection at 0x2446a05afa0>"
      ]
     },
     "execution_count": 23,
     "metadata": {},
     "output_type": "execute_result"
    },
    {
     "data": {
      "image/png": "[encoded data removed]",
      "text/plain": [
       "<Figure size 640x480 with 1 Axes>"
      ]
     },
     "metadata": {},
     "output_type": "display_data"
    }
   ],
   "source": [
    "plt.scatter (Data['surface'],Data['loyer'],color='red')"
   ]
  },
  {
   "cell_type": "code",
   "execution_count": 30,
   "id": "beed3938",
   "metadata": {},
   "outputs": [
    {
     "data": {
      "text/html": [
       "<div>\n",
       "<style scoped>\n",
       "    .dataframe tbody tr th:only-of-type {\n",
       "        vertical-align: middle;\n",
       "    }\n",
       "\n",
       "    .dataframe tbody tr th {\n",
       "        vertical-align: top;\n",
       "    }\n",
       "\n",
       "    .dataframe thead th {\n",
       "        text-align: right;\n",
       "    }\n",
       "</style>\n",
       "<table border=\"1\" class=\"dataframe\">\n",
       "  <thead>\n",
       "    <tr style=\"text-align: right;\">\n",
       "      <th></th>\n",
       "      <th>surface</th>\n",
       "      <th>loyer</th>\n",
       "    </tr>\n",
       "  </thead>\n",
       "  <tbody>\n",
       "    <tr>\n",
       "      <th>0</th>\n",
       "      <td>37</td>\n",
       "      <td>1330</td>\n",
       "    </tr>\n",
       "    <tr>\n",
       "      <th>1</th>\n",
       "      <td>32</td>\n",
       "      <td>1400</td>\n",
       "    </tr>\n",
       "    <tr>\n",
       "      <th>2</th>\n",
       "      <td>26</td>\n",
       "      <td>904</td>\n",
       "    </tr>\n",
       "    <tr>\n",
       "      <th>3</th>\n",
       "      <td>30</td>\n",
       "      <td>955</td>\n",
       "    </tr>\n",
       "    <tr>\n",
       "      <th>4</th>\n",
       "      <td>70</td>\n",
       "      <td>2545</td>\n",
       "    </tr>\n",
       "    <tr>\n",
       "      <th>...</th>\n",
       "      <td>...</td>\n",
       "      <td>...</td>\n",
       "    </tr>\n",
       "    <tr>\n",
       "      <th>540</th>\n",
       "      <td>48</td>\n",
       "      <td>1490</td>\n",
       "    </tr>\n",
       "    <tr>\n",
       "      <th>541</th>\n",
       "      <td>58</td>\n",
       "      <td>2020</td>\n",
       "    </tr>\n",
       "    <tr>\n",
       "      <th>542</th>\n",
       "      <td>70</td>\n",
       "      <td>2050</td>\n",
       "    </tr>\n",
       "    <tr>\n",
       "      <th>543</th>\n",
       "      <td>42</td>\n",
       "      <td>1220</td>\n",
       "    </tr>\n",
       "    <tr>\n",
       "      <th>544</th>\n",
       "      <td>44</td>\n",
       "      <td>1610</td>\n",
       "    </tr>\n",
       "  </tbody>\n",
       "</table>\n",
       "<p>537 rows × 2 columns</p>\n",
       "</div>"
      ],
      "text/plain": [
       "     surface  loyer\n",
       "0         37   1330\n",
       "1         32   1400\n",
       "2         26    904\n",
       "3         30    955\n",
       "4         70   2545\n",
       "..       ...    ...\n",
       "540       48   1490\n",
       "541       58   2020\n",
       "542       70   2050\n",
       "543       42   1220\n",
       "544       44   1610\n",
       "\n",
       "[537 rows x 2 columns]"
      ]
     },
     "execution_count": 30,
     "metadata": {},
     "output_type": "execute_result"
    }
   ],
   "source": [
    "Data = Data[Data['loyer']<=10000]\n",
    "Data"
   ]
  },
  {
   "cell_type": "code",
   "execution_count": 31,
   "id": "492ebcce",
   "metadata": {},
   "outputs": [
    {
     "data": {
      "text/plain": [
       "<matplotlib.collections.PathCollection at 0x2446b17a3d0>"
      ]
     },
     "execution_count": 31,
     "metadata": {},
     "output_type": "execute_result"
    },
    {
     "data": {
      "image/png": "[encoded data removed]",
      "text/plain": [
       "<Figure size 640x480 with 1 Axes>"
      ]
     },
     "metadata": {},
     "output_type": "display_data"
    }
   ],
   "source": [
    "plt.scatter (Data['surface'],Data['loyer'],color='red')"
   ]
  },
  {
   "cell_type": "code",
   "execution_count": 32,
   "id": "46dbc3a2",
   "metadata": {},
   "outputs": [],
   "source": [
    "x=Data.iloc[ : , :-1 ].values\n",
    "y=Data.iloc[ : , -1].values"
   ]
  },
  {
   "cell_type": "code",
   "execution_count": 33,
   "id": "8a85297b",
   "metadata": {},
   "outputs": [
    {
     "data": {
      "text/plain": [
       "array([ 1330,  1400,   904,   955,  2545,   970,  1560,  1960,  2000,\n",
       "        2600,  3280,   980,  1250,   752,   815,  1147,  1500,  3587,\n",
       "        1355,  1245,  1100,  1120,  1225,  1250,  1280,  1114,  1290,\n",
       "        1300,  1300,  1304,  1340,  1344,  1290,  1364,  1400,  1400,\n",
       "        1420,  1420,  1445,  1500,  1544,  1550,  1500,  1612,  1650,\n",
       "        1533,  1663,  1584,  1680,  1700,  1700,  1700,  1700,  1700,\n",
       "        1600,  1700,  1710,  1600,  1750,  1765,  1790,  1689,  1795,\n",
       "        1800,  1700,  1800,  1850,  1850,  1750,  1850,  1850,  1850,\n",
       "        1875,  1900,  1950,  1750,  2000,  2044,  2100,  2100,  2100,\n",
       "        2100,  2107,  2116,  2132,  2000,  2180,  2100,  2200,  2200,\n",
       "        2200,  2216,  2240,  2249,  2282,  2300,  2300,  2320,  2324,\n",
       "        2324,  2367,  2400,  2400,  2445,  2450,  2450,  2280,  2250,\n",
       "        2415,  2470,  2600,  2650,  2650,  2675,  2550,  2700,  2780,\n",
       "        2800,  2800,  2850,  2941,  2941,  3000,  2800,  3000,  3000,\n",
       "        3010,  2950,  3200,  3200,  3200,  3234,  3300,  3420,  3350,\n",
       "        3130,  3500,  3700,  3705,  3705,  3800,  3900,  3700,  4000,\n",
       "        4000,  3850,  4407,  5000,  5233,  5249,  5500,  5600,  5970,\n",
       "        6000,  6000,  7450,  7280, 10000,   775,   816,   800,   900,\n",
       "         900,   888,   960,   966,  1000,  1040,  1048,  1072,  1090,\n",
       "        1100,  1150,  1180,  1200,  1200,  1200,  1200,  1218,  1250,\n",
       "        1250,  1300,  1329,  1340,  1500,  1500,  1550,  1900,  1910,\n",
       "        2700,  2950,  2700,  6500,  7500,  1048,  1650,  1100,  1133,\n",
       "        1500,  1530,  1520,  1600,  1620,  1700,  1820,  1850,  1939,\n",
       "        1958,  1750,  2090,  2102,  2162,  2150,  2250,  2359,  2400,\n",
       "        2459,  2400,  2459,  2535,  2650,  2650,  2900,  2950,  3000,\n",
       "        3234,  3243,  4200,  4938,  1100,   700,   880,   930,   940,\n",
       "         950,   950,  1000,  1380,  1700,  1740,  2367,  2800,  3000,\n",
       "        1365,   855,  1250,  2132,  2840,  2614,   693,  1000,  2200,\n",
       "        1900,  2347,  3460,  1100,  1200,  1313,  1490,  1850,  1880,\n",
       "        1900,  1900,  2008,  2960,  3200,  3220,  3380,  3950,   645,\n",
       "         682,   745,  1780,  1595,  4200,  9500,   973,  1100,  1851,\n",
       "        1105,  1200,  1704,   800,   985,  1000,  1006,  1100,  1220,\n",
       "        1230,  1270,  1280,  1290,  1300,  1340,  1350,  1380,  1390,\n",
       "        1390,  1400,  1400,  1400,  1500,  1550,  1570,  1590,  1600,\n",
       "        1600,  1627,  1690,  1696,  1700,  1700,  1705,  1750,  1750,\n",
       "        1800,  1830,  1726,  1850,  1875,  1900,  1930,  1990,  2000,\n",
       "        2044,  2060,  2100,  1922,  2190,  2250,  2250,  2300,  2300,\n",
       "        2309,  2450,  2471,  2500,  2500,  2500,  2500,  2587,  2700,\n",
       "        2700,  2750,  2800,  2800,  2886,  2900,  3000,  3000,  3000,\n",
       "        2840,  3100,  3179,  3200,  3200,  3000,  3200,  3300,  3300,\n",
       "        3300,  3460,  3500,  3650,  3660,  3680,  3700,  4500,  4600,\n",
       "        4930,  4937,  5100,  5233,  5249,  5000,  5307,  5950,  7450,\n",
       "         730,   738,   821,   850,   854,   910,   940,   950,   950,\n",
       "         976,   990,  1190,  1095,  1210,  1250,  1255,  1255,  1300,\n",
       "        1380,  1500,  1500,  1510,  1550,  1560,  1580,  1640,  1650,\n",
       "        1665,  1865,  1920,  2000,  2000,  2130,  2200,  2300,  2500,\n",
       "        3750,  3800,  4100,  4300,  4500,   637,   680,   700,   960,\n",
       "         775,  1250,  1380,  1630,  1650,  1765,  1900,  1787,  1920,\n",
       "        2132,  2132,  2200,  2272,  2400,  2350,  2657,  2999,  3000,\n",
       "        3460,  3600,  2290,  2927,   700,   755,   990,  1058,  1095,\n",
       "        1100,  1280,  1350,  1400,  1550,  1900,  2200,  3140,   600,\n",
       "         600,   890,  1050,  1100,  1650,  2090,  6300,   930,  1980,\n",
       "         885,  1060,  1200,  1500,   890,  1300,   900,  1150,   840,\n",
       "         928,   981,  1180,  1198,  1450,  3000,   875,   998,  1000,\n",
       "        1250,  1480,  1900,  2500,   950,  1180,  1550,  1333,  1580,\n",
       "         850,   488,   619,   820,  1350,  1475,  1397,  1460,  3200,\n",
       "        5000,   790,   800,   810,   940,   898,  1137,   810,   940,\n",
       "         898,  1137,  1600,  2097,   733,  1166,  1500,  1900,  1900,\n",
       "        1950,  2000,  2950,  1200,  1300,  1400,  1690,  1940,  2100,\n",
       "        2490,  1490,  2020,  2050,  1220,  1610], dtype=int64)"
      ]
     },
     "execution_count": 33,
     "metadata": {},
     "output_type": "execute_result"
    }
   ],
   "source": [
    "y"
   ]
  },
  {
   "cell_type": "code",
   "execution_count": 38,
   "id": "b74a8c8c",
   "metadata": {},
   "outputs": [],
   "source": [
    "x_train,x_test,y_train,y_test = train_test_split(x,y,test_size=0.2)"
   ]
  },
  {
   "cell_type": "code",
   "execution_count": 39,
   "id": "2bcc8789",
   "metadata": {},
   "outputs": [
    {
     "data": {
      "text/plain": [
       "537"
      ]
     },
     "execution_count": 39,
     "metadata": {},
     "output_type": "execute_result"
    }
   ],
   "source": [
    "len(x)"
   ]
  },
  {
   "cell_type": "code",
   "execution_count": 40,
   "id": "5e96fbfa",
   "metadata": {},
   "outputs": [
    {
     "data": {
      "text/plain": [
       "429"
      ]
     },
     "execution_count": 40,
     "metadata": {},
     "output_type": "execute_result"
    }
   ],
   "source": [
    "len(x_train)"
   ]
  },
  {
   "cell_type": "code",
   "execution_count": 41,
   "id": "bc5c7793",
   "metadata": {},
   "outputs": [
    {
     "data": {
      "text/plain": [
       "108"
      ]
     },
     "execution_count": 41,
     "metadata": {},
     "output_type": "execute_result"
    }
   ],
   "source": [
    "len(x_test)\n"
   ]
  },
  {
   "cell_type": "code",
   "execution_count": 43,
   "id": "066d5366",
   "metadata": {},
   "outputs": [
    {
     "data": {
      "text/plain": [
       "LinearRegression()"
      ]
     },
     "execution_count": 43,
     "metadata": {},
     "output_type": "execute_result"
    }
   ],
   "source": [
    "#Construction du model\n",
    "\n",
    "regressor= LinearRegression()\n",
    "regressor.fit(x_train,y_train)"
   ]
  },
  {
   "cell_type": "code",
   "execution_count": 44,
   "id": "d0a65484",
   "metadata": {},
   "outputs": [],
   "source": [
    "y_pred = regressor.predict(x_test)"
   ]
  },
  {
   "cell_type": "code",
   "execution_count": 45,
   "id": "76f3ebf8",
   "metadata": {},
   "outputs": [
    {
     "data": {
      "text/plain": [
       "array([2500.91718312, 3273.69346864, 2887.30532588, 2436.51915933,\n",
       "       1051.96164779, 1792.5389214 , 3788.87765898, 2436.51915933,\n",
       "       2758.5092783 , 3885.47469467, 1534.94682623, 2017.93200468,\n",
       "       1470.54880244, 1792.5389214 , 2017.93200468, 4046.46975415,\n",
       "       3016.10137347, 1019.76263589, 1953.53398089, 2243.32508795,\n",
       "       1502.74781434, 2211.12607606,  729.97152882, 3724.47963519,\n",
       "       1470.54880244, 3660.0816114 , 2275.52409985, 1051.96164779,\n",
       "        536.77745744,  697.77251692, 1985.73299278, 2243.32508795,\n",
       "       1631.54386192, 2629.71323071, 3080.49939726, 3563.48457571,\n",
       "       2243.32508795, 2050.13101657, 2372.12113554, 1760.33990951,\n",
       "       2243.32508795, 3273.69346864,  826.56856451, 1084.16065968,\n",
       "       1438.34979054, 1599.34485002, 1695.94188571, 2243.32508795,\n",
       "       1856.9369452 , 1309.55374296, 2436.51915933, 2404.32014744,\n",
       "       2855.10631399, 2082.33002847, 1309.55374296, 2597.51421881,\n",
       "       2436.51915933,  762.17054072, 1245.15571916, 2436.51915933,\n",
       "        987.56362399, 1663.74287382,  633.37449313, 2050.13101657,\n",
       "       1470.54880244, 2887.30532588, 4593.85295639,  858.76757641,\n",
       "       3917.67370657,  826.56856451, 2178.92706416, 2629.71323071,\n",
       "       2178.92706416, 1889.13595709,  601.17548123, 1438.34979054,\n",
       "       1470.54880244, 1180.75769537, 2629.71323071, 1277.35473106,\n",
       "       1695.94188571, 1245.15571916, 1792.5389214 , 3080.49939726,\n",
       "       2855.10631399,  665.57350503, 1212.95670727,  826.56856451,\n",
       "        923.1656002 , 5753.01738467, 1953.53398089, 1631.54386192,\n",
       "       2404.32014744, 2436.51915933, 4561.6539445 , 2694.1112545 ,\n",
       "       2887.30532588, 4948.04208725, 2243.32508795, 3531.28556381,\n",
       "       2629.71323071,  633.37449313, 1406.15077865, 2243.32508795,\n",
       "        826.56856451,  794.36955261, 7749.35612224, 2114.52904037])"
      ]
     },
     "execution_count": 45,
     "metadata": {},
     "output_type": "execute_result"
    }
   ],
   "source": [
    "y_pred"
   ]
  },
  {
   "cell_type": "code",
   "execution_count": 46,
   "id": "47d93f81",
   "metadata": {},
   "outputs": [
    {
     "data": {
      "text/plain": [
       "array([1599.34485002])"
      ]
     },
     "execution_count": 46,
     "metadata": {},
     "output_type": "execute_result"
    }
   ],
   "source": [
    "regressor.predict([[44]])"
   ]
  },
  {
   "cell_type": "code",
   "execution_count": 49,
   "id": "bcb947af",
   "metadata": {},
   "outputs": [
    {
     "data": {
      "text/plain": [
       "array([2436.51915933])"
      ]
     },
     "execution_count": 49,
     "metadata": {},
     "output_type": "execute_result"
    }
   ],
   "source": [
    "regressor.predict([[70]])"
   ]
  },
  {
   "cell_type": "code",
   "execution_count": 52,
   "id": "c365d835",
   "metadata": {},
   "outputs": [
    {
     "data": {
      "text/plain": [
       "Text(0.5, 1.0, 'Evolution des loyers par surface')"
      ]
     },
     "execution_count": 52,
     "metadata": {},
     "output_type": "execute_result"
    },
    {
     "data": {
      "image/png": "[encoded data removed]",
      "text/plain": [
       "<Figure size 640x480 with 1 Axes>"
      ]
     },
     "metadata": {},
     "output_type": "display_data"
    }
   ],
   "source": [
    "plt.scatter(x_test,y_test,color='red')\n",
    "plt.plot(x_train,regressor.predict(x_train),color='blue')\n",
    "plt.title('Evolution des loyers par surface')"
   ]
  },
  {
   "cell_type": "code",
   "execution_count": null,
   "id": "bfae3124",
   "metadata": {},
   "outputs": [],
   "source": []
  }
 ],
 "metadata": {
  "kernelspec": {
   "display_name": "Python 3 (ipykernel)",
   "language": "python",
   "name": "python3"
  },
  "language_info": {
   "codemirror_mode": {
    "name": "ipython",
    "version": 3
   },
   "file_extension": ".py",
   "mimetype": "text/x-python",
   "name": "python",
   "nbconvert_exporter": "python",
   "pygments_lexer": "ipython3",
   "version": "3.9.13"
  }
 },
 "nbformat": 4,
 "nbformat_minor": 5
}
